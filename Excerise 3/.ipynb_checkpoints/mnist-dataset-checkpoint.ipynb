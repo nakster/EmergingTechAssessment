{
 "cells": [
  {
   "cell_type": "markdown",
   "metadata": {},
   "source": [
    "![](http://4.bp.blogspot.com/-vKTlnfnQDVk/VfDW2jkqoyI/AAAAAAABU_o/BvQZMfZqAho/s1600/mnist.JPG)"
   ]
  },
  {
   "cell_type": "markdown",
   "metadata": {},
   "source": [
    "# What is MNIST Dataset?\n",
    "\n",
    "The MNIST database is a large database of handwritten digits that is commonly used for training various image processing systems.The MNIST dataset was constructed from two datasets of the US National Institute of Standards and Technology. The data is taken from 250 different people which include 50% students and 50% employee from Census Bureau. The purpose of the database is to use it for training and testing in the field of machine learning. \n",
    "\n",
    "MNIST is like the \"Hello World\" of machine learning. Its a database of handwritten digits (0-9), with which you can try out a few machine learning algorithms. The MNIST database contains 60,000 training images and 10,000 testing images.It is a subset of a larger set available from NIST. The digits have been size-normalized and centered in a fixed-size image.\n",
    "\n",
    "The purpose of this notebook is to read the MNIST dataset efficiently into memory in Python.\n"
   ]
  },
  {
   "cell_type": "markdown",
   "metadata": {},
   "source": [
    "### Imports"
   ]
  },
  {
   "cell_type": "code",
   "execution_count": 1,
   "metadata": {},
   "outputs": [],
   "source": [
    "import numpy as np\n",
    "import os\n",
    "import urllib.request\n",
    "import gzip\n",
    "import matplotlib.pyplot as plt\n",
    "import shutil"
   ]
  },
  {
   "cell_type": "markdown",
   "metadata": {},
   "source": [
    "This is for the table to be alligned to the left rather then the middle"
   ]
  },
  {
   "cell_type": "code",
   "execution_count": 2,
   "metadata": {
    "scrolled": true
   },
   "outputs": [
    {
     "data": {
      "text/html": [
       "<style>\n",
       "table {margin-left: 0 !important;}\n",
       "</style>"
      ],
      "text/plain": [
       "<IPython.core.display.HTML object>"
      ]
     },
     "metadata": {},
     "output_type": "display_data"
    }
   ],
   "source": [
    "%%html\n",
    "<style>\n",
    "table {margin-left: 0 !important;}\n",
    "</style>"
   ]
  },
  {
   "cell_type": "markdown",
   "metadata": {},
   "source": [
    "### Download the dataset to a folder"
   ]
  },
  {
   "cell_type": "code",
   "execution_count": 3,
   "metadata": {},
   "outputs": [],
   "source": [
    "# First make a folder which will store the the downloads\n",
    "path = 'data/'\n",
    "\n",
    "# If the file does not exist then make a new file \n",
    "# This makes sure that a file is made even when it doesnt exist\n",
    "if not os.path.exists(path):\n",
    "    os.makedirs(path)"
   ]
  },
  {
   "cell_type": "markdown",
   "metadata": {},
   "source": [
    "### Get the file url from [Data Set website](http://yann.lecun.com/exdb/mnist/) "
   ]
  },
  {
   "cell_type": "code",
   "execution_count": 4,
   "metadata": {},
   "outputs": [
    {
     "name": "stdout",
     "output_type": "stream",
     "text": [
      "The train-images-idx3-ubyte.gz Is Downloading\n",
      "\n",
      "These are the files in the Directory\n"
     ]
    },
    {
     "data": {
      "text/plain": [
       "['train-images-idx3-ubyte.gz']"
      ]
     },
     "execution_count": 4,
     "metadata": {},
     "output_type": "execute_result"
    }
   ],
   "source": [
    "# This is the url we will download the file from \n",
    "# This has all the train images from the database \n",
    "url = 'http://yann.lecun.com/exdb/mnist/train-images-idx3-ubyte.gz'\n",
    "\n",
    "# \"Method returns a list of strings after breaking the given string by the specified separator\"\n",
    "# im using the split method to get the last value whic is the name of the file\n",
    "#filename = url.split('/')[5] # i could do it this way or go to the last value\n",
    "file = url.split('/')[-1]\n",
    "\n",
    "#if the file that im downloading already exists\n",
    "# Then it will not download it \n",
    "if os.path.exists(path+file):\n",
    "    print('The File Youre trying to download already exists!', file)\n",
    "else:\n",
    "    #if the file does not exist the it will download the file \n",
    "    print('The',file, 'Is Downloading')\n",
    "    urllib.request.urlretrieve (url, path+file)\n",
    "    \n",
    "# This here shows how many files exist in the directory \n",
    "print()\n",
    "print('These are the files in the Directory')\n",
    "os.listdir('data')\n"
   ]
  },
  {
   "cell_type": "markdown",
   "metadata": {},
   "source": [
    "### Dowload the rest of the files"
   ]
  },
  {
   "cell_type": "code",
   "execution_count": 5,
   "metadata": {},
   "outputs": [
    {
     "name": "stdout",
     "output_type": "stream",
     "text": [
      "The train-labels-idx1-ubyte.gz Is Downloading\n",
      "The t10k-images-idx3-ubyte.gz Is Downloading\n",
      "The t10k-labels-idx1-ubyte.gz Is Downloading\n",
      "\n",
      "These are the files in the Directory\n"
     ]
    },
    {
     "data": {
      "text/plain": [
       "['t10k-images-idx3-ubyte.gz',\n",
       " 't10k-labels-idx1-ubyte.gz',\n",
       " 'train-images-idx3-ubyte.gz',\n",
       " 'train-labels-idx1-ubyte.gz']"
      ]
     },
     "execution_count": 5,
     "metadata": {},
     "output_type": "execute_result"
    }
   ],
   "source": [
    "# This will store all the rest of urls that i need to download\n",
    "# The Train labels/Test Images /Test Labels\n",
    "urls = ['http://yann.lecun.com/exdb/mnist/train-labels-idx1-ubyte.gz',\n",
    "        'http://yann.lecun.com/exdb/mnist/t10k-images-idx3-ubyte.gz',\n",
    "        'http://yann.lecun.com/exdb/mnist/t10k-labels-idx1-ubyte.gz']\n",
    "\n",
    "# We can go through a for loop and download the files\n",
    "for url in urls:\n",
    "    # We can then split each url to just the file name \n",
    "    file = url.split('/')[-1]\n",
    "    # print(file)\n",
    "    \n",
    "    #Now in the for loop check if the file exists \n",
    "    #if the file that im downloading already exists\n",
    "    # Then it will not download it \n",
    "    if os.path.exists(path+file):\n",
    "        print('The File Youre trying to download already exists!', file)\n",
    "    else:\n",
    "         #if the file does not exist the it will download the file\n",
    "        print('The',file, 'Is Downloading')\n",
    "        urllib.request.urlretrieve (url, path+file)\n",
    "        \n",
    "# This here shows how many files exist in the directory\n",
    "# It should have 4 different files in the folder \n",
    "print()\n",
    "print('These are the files in the Directory')\n",
    "#lists the directory\n",
    "os.listdir('data')"
   ]
  },
  {
   "cell_type": "markdown",
   "metadata": {},
   "source": [
    "### Read the contents of the file "
   ]
  },
  {
   "cell_type": "markdown",
   "metadata": {},
   "source": [
    "##### TRAINING SET IMAGE FILE (train-images-idx3-ubyte)\n",
    "Pixels are organized row-wise. Pixel values are 0 to 255. 0 means background (white), 255 means foreground (black).\n",
    "\n",
    "|Offset | Type               | Value           |   Description                   |\n",
    "|:------|:-------------------|:----------------|:--------------------------------|\n",
    "|0000   |32 bit integer      |0x00000801(2051) |magic number                     |\n",
    "|0004   |32 bit integer      |10000 or 60000   |number of images                 |\n",
    "|0008   |32 bit integer      |28               |number of rows                   |\n",
    "|0012   |32 bit integer      |28               |number of columns                |\n",
    "|0016   |unsigned byte       |??               |pixel                            |\n",
    "|0017   |unsigned byte       |??               |pixel                            |\n",
    "|...    |...                 |...              |...                              |\n",
    "|xxxx   |unsigned byte       |??               |pixel                            |"
   ]
  },
  {
   "cell_type": "code",
   "execution_count": 6,
   "metadata": {},
   "outputs": [],
   "source": [
    "# open the file and read the contents of the file to a variable called fileC\n",
    "with gzip.open('data/t10k-images-idx3-ubyte.gz', 'rb') as f:\n",
    "    fileC = f.read()"
   ]
  },
  {
   "cell_type": "code",
   "execution_count": 7,
   "metadata": {
    "scrolled": true
   },
   "outputs": [
    {
     "data": {
      "text/plain": [
       "b'\\x00\\x00\\x08\\x03'"
      ]
     },
     "execution_count": 7,
     "metadata": {},
     "output_type": "execute_result"
    }
   ],
   "source": [
    "#The first 4 bits means its a magic number \n",
    "fileC[0:4] #The magic number is an integer (MSB first). The first 2 bytes are always 0. \n",
    "# The third byte codes the type of the data: \n",
    "#The 4-th byte codes the number of dimensions of the vector/matrix: 1 for vectors, 2 for matrices"
   ]
  },
  {
   "cell_type": "code",
   "execution_count": 8,
   "metadata": {},
   "outputs": [
    {
     "data": {
      "text/plain": [
       "2051"
      ]
     },
     "execution_count": 8,
     "metadata": {},
     "output_type": "execute_result"
    }
   ],
   "source": [
    "#The actual value in int\n",
    "int.from_bytes(fileC[0:4], byteorder='big')"
   ]
  },
  {
   "cell_type": "code",
   "execution_count": 9,
   "metadata": {
    "scrolled": true
   },
   "outputs": [
    {
     "name": "stdout",
     "output_type": "stream",
     "text": [
      "b\"\\x00\\x00'\\x10\"\n"
     ]
    },
    {
     "data": {
      "text/plain": [
       "10000"
      ]
     },
     "execution_count": 9,
     "metadata": {},
     "output_type": "execute_result"
    }
   ],
   "source": [
    "print(fileC[4:8]) # This here is the size of the images \n",
    "# its in the binary form so the actual number is 010000 if\n",
    "# you read it the opposite \n",
    "int.from_bytes(fileC[4:8], byteorder='big')"
   ]
  },
  {
   "cell_type": "code",
   "execution_count": 10,
   "metadata": {
    "scrolled": true
   },
   "outputs": [
    {
     "name": "stdout",
     "output_type": "stream",
     "text": [
      "b'\\x00\\x00\\x00\\x1c'\n"
     ]
    },
    {
     "data": {
      "text/plain": [
       "28"
      ]
     },
     "execution_count": 10,
     "metadata": {},
     "output_type": "execute_result"
    }
   ],
   "source": [
    "print(fileC[8:12])# This is the number of rows\n",
    "int.from_bytes(fileC[8:12], byteorder='big') # There are 28 rows "
   ]
  },
  {
   "cell_type": "code",
   "execution_count": 11,
   "metadata": {},
   "outputs": [
    {
     "name": "stdout",
     "output_type": "stream",
     "text": [
      "b'\\x00\\x00\\x00\\x1c'\n"
     ]
    },
    {
     "data": {
      "text/plain": [
       "28"
      ]
     },
     "execution_count": 11,
     "metadata": {},
     "output_type": "execute_result"
    }
   ],
   "source": [
    "print(fileC[12:16])# This is the number of columns\n",
    "int.from_bytes(fileC[12:16], byteorder='big') # There are 28 columns "
   ]
  },
  {
   "cell_type": "code",
   "execution_count": 12,
   "metadata": {},
   "outputs": [
    {
     "data": {
      "text/plain": [
       "<matplotlib.image.AxesImage at 0x27b05416cc0>"
      ]
     },
     "execution_count": 12,
     "metadata": {},
     "output_type": "execute_result"
    },
    {
     "data": {
      "image/png": "[encoded data removed]",
      "text/plain": [
       "<Figure size 432x288 with 1 Axes>"
      ]
     },
     "metadata": {},
     "output_type": "display_data"
    }
   ],
   "source": [
    "# 28 * 28 is equal = 784 which is equal to one image \n",
    "# so every 784 pixels is a image \n",
    "image = ~np.array(list(fileC[16:800])).reshape(28,28).astype(np.uint8)\n",
    "plt.imshow(image, cmap='gray')"
   ]
  },
  {
   "cell_type": "code",
   "execution_count": 13,
   "metadata": {
    "scrolled": false
   },
   "outputs": [
    {
     "data": {
      "text/plain": [
       "<matplotlib.image.AxesImage at 0x27b054a55f8>"
      ]
     },
     "execution_count": 13,
     "metadata": {},
     "output_type": "execute_result"
    },
    {
     "data": {
      "image/png": "[encoded data removed]",
      "text/plain": [
       "<Figure size 432x288 with 1 Axes>"
      ]
     },
     "metadata": {},
     "output_type": "display_data"
    }
   ],
   "source": [
    "# 28 * 28 is equal = 784 which is equal to one image \n",
    "# so every 784 pixels is a image \n",
    "image = ~np.array(list(fileC[800:1584])).reshape(28,28).astype(np.uint8)\n",
    "plt.imshow(image, cmap='gray')"
   ]
  },
  {
   "cell_type": "markdown",
   "metadata": {},
   "source": [
    "## Save The file as images "
   ]
  },
  {
   "cell_type": "markdown",
   "metadata": {},
   "source": [
    "### Extract The Downloads "
   ]
  },
  {
   "cell_type": "code",
   "execution_count": 14,
   "metadata": {},
   "outputs": [],
   "source": [
    "#source = os.listdir(\"data\")\n",
    "#destination = \"data/data\"\n",
    "\n",
    "#for f1 in source:\n",
    " #   if files.endswith(\".gz\"):\n",
    "  #      print('hello')\n",
    "   #     shutil.copyfile(destination, f1)\n",
    "\n",
    "#Tried to copy the files but was denied permission\n"
   ]
  },
  {
   "cell_type": "code",
   "execution_count": 2,
   "metadata": {},
   "outputs": [
    {
     "name": "stdout",
     "output_type": "stream",
     "text": [
      "The train-images-idx3-ubyte.gz Is Downloading\n",
      "The train-labels-idx1-ubyte.gz Is Downloading\n",
      "The t10k-images-idx3-ubyte.gz Is Downloading\n",
      "The t10k-labels-idx1-ubyte.gz Is Downloading\n",
      "Done\n"
     ]
    }
   ],
   "source": [
    "# Im going to make a new folder and try to extract the folder their\n",
    "# First make a folder which will store the the downloads\n",
    "path2 = 'data/data/'\n",
    "\n",
    "# If the file does not exist then make a new file \n",
    "# This makes sure that a file is made even when it doesnt exist\n",
    "if not os.path.exists(path2):\n",
    "    os.makedirs(path2)\n",
    "    \n",
    "# This will store all the rest of urls that i need to download\n",
    "# The Train labels/Test Images /Test Labels\n",
    "urls = ['http://yann.lecun.com/exdb/mnist/train-images-idx3-ubyte.gz',\n",
    "        'http://yann.lecun.com/exdb/mnist/train-labels-idx1-ubyte.gz',\n",
    "        'http://yann.lecun.com/exdb/mnist/t10k-images-idx3-ubyte.gz',\n",
    "        'http://yann.lecun.com/exdb/mnist/t10k-labels-idx1-ubyte.gz']\n",
    "\n",
    "# We can go through a for loop and download the files\n",
    "for url in urls:\n",
    "    # We can then split each url to just the file name \n",
    "    file = url.split('/')[-1]\n",
    "    # print(file)\n",
    "    \n",
    "    #Now in the for loop check if the file exists \n",
    "    #if the file that im downloading already exists\n",
    "    # Then it will not download it \n",
    "    if os.path.exists(path2+file):\n",
    "        print('The File Youre trying to download already exists!', file)\n",
    "    else:\n",
    "         #if the file does not exist the it will download the file\n",
    "        print('The',file, 'Is Downloading')\n",
    "        urllib.request.urlretrieve (url, path2+file)\n",
    "print('Done')\n"
   ]
  },
  {
   "cell_type": "markdown",
   "metadata": {},
   "source": [
    "### Extract\n",
    "The files are in a format so we need to extract it"
   ]
  },
  {
   "cell_type": "code",
   "execution_count": 3,
   "metadata": {},
   "outputs": [
    {
     "name": "stdout",
     "output_type": "stream",
     "text": [
      "Done\n"
     ]
    }
   ],
   "source": [
    "# This here shows how many files exist in the directory\n",
    "# It should have 4 different files in the folder \n",
    "# get a list of all the files in the folder 'data/data'\n",
    "files = os.listdir(path2)\n",
    "\n",
    "#the for loop goes through each file and extracts it \n",
    "for file in files:\n",
    "    #checks if the file ends in .gz \n",
    "    if file.endswith('.gz'):\n",
    "        #this reads the file with gzip \n",
    "        with gzip.open(path2+file, 'rb') as In:\n",
    "           #removes the .gz file\n",
    "            with open(path2+file.split('.')[0], 'wb') as out:\n",
    "                #shutil copies the contents from In to out\n",
    "                shutil.copyfileobj(In, out)\n",
    "print('Done')"
   ]
  },
  {
   "cell_type": "markdown",
   "metadata": {},
   "source": [
    "### Delete the .gz Files"
   ]
  },
  {
   "cell_type": "code",
   "execution_count": 4,
   "metadata": {
    "scrolled": true
   },
   "outputs": [
    {
     "name": "stdout",
     "output_type": "stream",
     "text": [
      "All files have been Removed\n",
      "All files have been Removed\n",
      "All files have been Removed\n",
      "All files have been Removed\n",
      "Removed all the .GZ files\n"
     ]
    }
   ],
   "source": [
    "for file in files:\n",
    "    if file.endswith('.gz'):\n",
    "        os.remove(path2+file)   \n",
    "    else:\n",
    "        print('All files have been Removed')\n",
    "              \n",
    "print ('Removed all the .GZ files')"
   ]
  },
  {
   "cell_type": "markdown",
   "metadata": {},
   "source": [
    "### Convert the ubyte files to numpy arrays \n",
    "I will convert the ubyte into 4 n dimensional arrays.\n",
    "\n",
    "| Key           |  Type        |Shape         |\n",
    "|---------------|--------------|--------------|\n",
    "| train_images  |numpy ndarray |[60000,28,28] |\n",
    "| test_images   |numpy ndarray |[10000,28,28] |\n",
    "| train_labels  |numpy ndarray |[60000]       |\n",
    "| test_labels   |numpy ndarray |[10000]       |\n"
   ]
  },
  {
   "cell_type": "code",
   "execution_count": 5,
   "metadata": {},
   "outputs": [
    {
     "name": "stdout",
     "output_type": "stream",
     "text": [
      "Done\n"
     ]
    }
   ],
   "source": [
    "# This here shows how many files exist in the directory\n",
    "# It should have 4 different files in the folder \n",
    "# get a list of all the files in the folder 'data/data'\n",
    "files = os.listdir(path2)\n",
    "\n",
    "ndArray = {}\n",
    "\n",
    "#go through a loop and add the files to the ndarray\n",
    "for file in files:\n",
    "    #if the extracted file matches then proceed\n",
    "    if file.endswith('ubyte'):\n",
    "        #print('Reading the file', file)\n",
    "        #open the file if the it ends with ubyte and read \n",
    "        with open (path2+file,'rb') as f:\n",
    "            #read the file \n",
    "            data = f.read() \n",
    "            # find out the magic number of the file\n",
    "            magic = int.from_bytes(data[0:4], byteorder='big')\n",
    "            # find out the size of the images \n",
    "            size = int.from_bytes(data[4:8], byteorder='big')\n",
    "            \n",
    "            # this is the size of Test images and labels \n",
    "            if (size==10000):\n",
    "                #here we will know if the file is a test image/label \n",
    "                trainOrTest = 'test'\n",
    "            # this is the size for training labels and images \n",
    "            elif (size == 60000):\n",
    "                #here we will know if the file is a Training image/label \n",
    "                trainOrTest = 'train'\n",
    "            # This checks the magic number 2051 which is for image files \n",
    "            if (magic == 2051):\n",
    "                imgOrLAbel = 'images'\n",
    "                #This gets the nummber of rows \n",
    "                rows = int.from_bytes(data[8:12], byteorder='big')\n",
    "                #this gets the number of columns \n",
    "                cols = int.from_bytes(data[12:16], byteorder='big')\n",
    "                # read values as ints # start from 16 as pixels being from byte 16\n",
    "                parsed = np.frombuffer(data,dtype = np.uint8, offset = 16) \n",
    "                # we will reshape the length, 28 x 28 \n",
    "                parsed = parsed.reshape(size,rows,cols)  \n",
    "            # this checks the magic number 2049 which is for labels \n",
    "            elif (magic == 2049):\n",
    "                imgOrLAbel = 'labels'\n",
    "                # read values as ints\n",
    "                parsed = np.frombuffer(data, dtype=np.uint8, offset=8)\n",
    "                #reshape \n",
    "                parsed = parsed.reshape(size)\n",
    "            #save each file as a array with their key \n",
    "            ndArray[trainOrTest+'_'+imgOrLAbel] = parsed\n",
    "    else:\n",
    "        print('No File Found')\n",
    "print('Done')"
   ]
  },
  {
   "cell_type": "code",
   "execution_count": 6,
   "metadata": {},
   "outputs": [
    {
     "data": {
      "text/plain": [
       "dict_keys(['test_images', 'test_labels', 'train_images', 'train_labels'])"
      ]
     },
     "execution_count": 6,
     "metadata": {},
     "output_type": "execute_result"
    }
   ],
   "source": [
    "#check if the arrays are created for each file \n",
    "ndArray.keys()"
   ]
  },
  {
   "cell_type": "code",
   "execution_count": 9,
   "metadata": {},
   "outputs": [
    {
     "data": {
      "text/plain": [
       "(10000, 28, 28)"
      ]
     },
     "execution_count": 9,
     "metadata": {},
     "output_type": "execute_result"
    }
   ],
   "source": [
    "# this shows the shap of the test images \n",
    "# It has 10000 images and rows = 28 and cols = 28\n",
    "ndArray['test_images'].shape"
   ]
  },
  {
   "cell_type": "code",
   "execution_count": 10,
   "metadata": {
    "scrolled": false
   },
   "outputs": [
    {
     "data": {
      "text/plain": [
       "array([[  0,   0,   0,   0,   0,   0,   0,   0,   0,   0,   0,   0,   0,\n",
       "          0,   0,   0,   0,   0,   0,   0,   0,   0,   0,   0,   0,   0,\n",
       "          0,   0],\n",
       "       [  0,   0,   0,   0,   0,   0,   0,   0,   0,   0,   0,   0,   0,\n",
       "          0,   0,   0,   0,   0,   0,   0,   0,   0,   0,   0,   0,   0,\n",
       "          0,   0],\n",
       "       [  0,   0,   0,   0,   0,   0,   0,   0,   0,   0,   0,   0,   0,\n",
       "          0,   0,   0,   0,   0,   0,   0,   0,   0,   0,   0,   0,   0,\n",
       "          0,   0],\n",
       "       [  0,   0,   0,   0,   0,   0,   0,   0,   0,   0,   0,   0,   0,\n",
       "          0,   0,   0,   0,   0,   0,   0,   0,   0,   0,   0,   0,   0,\n",
       "          0,   0],\n",
       "       [  0,   0,   0,   0,   0,   0,   0,   0,   0,   0,   0,   0,   0,\n",
       "          0,   0,   0,   0,   0,   0,   0,   0,   0,   0,   0,   0,   0,\n",
       "          0,   0],\n",
       "       [  0,   0,   0,   0,   0,   0,   0,   0,   0,   0,   0,   0,   0,\n",
       "          0,   0,   0,   0,   0,   0,   0,   0,   0,   0,   0,   0,   0,\n",
       "          0,   0],\n",
       "       [  0,   0,   0,   0,   0,   0,   0,   0,   0,   0,   0,   0,   0,\n",
       "          0,   0,   0,   0,   0,   0,   0,   0,   0,   0,   0,   0,   0,\n",
       "          0,   0],\n",
       "       [  0,   0,   0,   0,   0,   0,  84, 185, 159, 151,  60,  36,   0,\n",
       "          0,   0,   0,   0,   0,   0,   0,   0,   0,   0,   0,   0,   0,\n",
       "          0,   0],\n",
       "       [  0,   0,   0,   0,   0,   0, 222, 254, 254, 254, 254, 241, 198,\n",
       "        198, 198, 198, 198, 198, 198, 198, 170,  52,   0,   0,   0,   0,\n",
       "          0,   0],\n",
       "       [  0,   0,   0,   0,   0,   0,  67, 114,  72, 114, 163, 227, 254,\n",
       "        225, 254, 254, 254, 250, 229, 254, 254, 140,   0,   0,   0,   0,\n",
       "          0,   0],\n",
       "       [  0,   0,   0,   0,   0,   0,   0,   0,   0,   0,   0,  17,  66,\n",
       "         14,  67,  67,  67,  59,  21, 236, 254, 106,   0,   0,   0,   0,\n",
       "          0,   0],\n",
       "       [  0,   0,   0,   0,   0,   0,   0,   0,   0,   0,   0,   0,   0,\n",
       "          0,   0,   0,   0,   0,  83, 253, 209,  18,   0,   0,   0,   0,\n",
       "          0,   0],\n",
       "       [  0,   0,   0,   0,   0,   0,   0,   0,   0,   0,   0,   0,   0,\n",
       "          0,   0,   0,   0,  22, 233, 255,  83,   0,   0,   0,   0,   0,\n",
       "          0,   0],\n",
       "       [  0,   0,   0,   0,   0,   0,   0,   0,   0,   0,   0,   0,   0,\n",
       "          0,   0,   0,   0, 129, 254, 238,  44,   0,   0,   0,   0,   0,\n",
       "          0,   0],\n",
       "       [  0,   0,   0,   0,   0,   0,   0,   0,   0,   0,   0,   0,   0,\n",
       "          0,   0,   0,  59, 249, 254,  62,   0,   0,   0,   0,   0,   0,\n",
       "          0,   0],\n",
       "       [  0,   0,   0,   0,   0,   0,   0,   0,   0,   0,   0,   0,   0,\n",
       "          0,   0,   0, 133, 254, 187,   5,   0,   0,   0,   0,   0,   0,\n",
       "          0,   0],\n",
       "       [  0,   0,   0,   0,   0,   0,   0,   0,   0,   0,   0,   0,   0,\n",
       "          0,   0,   9, 205, 248,  58,   0,   0,   0,   0,   0,   0,   0,\n",
       "          0,   0],\n",
       "       [  0,   0,   0,   0,   0,   0,   0,   0,   0,   0,   0,   0,   0,\n",
       "          0,   0, 126, 254, 182,   0,   0,   0,   0,   0,   0,   0,   0,\n",
       "          0,   0],\n",
       "       [  0,   0,   0,   0,   0,   0,   0,   0,   0,   0,   0,   0,   0,\n",
       "          0,  75, 251, 240,  57,   0,   0,   0,   0,   0,   0,   0,   0,\n",
       "          0,   0],\n",
       "       [  0,   0,   0,   0,   0,   0,   0,   0,   0,   0,   0,   0,   0,\n",
       "         19, 221, 254, 166,   0,   0,   0,   0,   0,   0,   0,   0,   0,\n",
       "          0,   0],\n",
       "       [  0,   0,   0,   0,   0,   0,   0,   0,   0,   0,   0,   0,   3,\n",
       "        203, 254, 219,  35,   0,   0,   0,   0,   0,   0,   0,   0,   0,\n",
       "          0,   0],\n",
       "       [  0,   0,   0,   0,   0,   0,   0,   0,   0,   0,   0,   0,  38,\n",
       "        254, 254,  77,   0,   0,   0,   0,   0,   0,   0,   0,   0,   0,\n",
       "          0,   0],\n",
       "       [  0,   0,   0,   0,   0,   0,   0,   0,   0,   0,   0,  31, 224,\n",
       "        254, 115,   1,   0,   0,   0,   0,   0,   0,   0,   0,   0,   0,\n",
       "          0,   0],\n",
       "       [  0,   0,   0,   0,   0,   0,   0,   0,   0,   0,   0, 133, 254,\n",
       "        254,  52,   0,   0,   0,   0,   0,   0,   0,   0,   0,   0,   0,\n",
       "          0,   0],\n",
       "       [  0,   0,   0,   0,   0,   0,   0,   0,   0,   0,  61, 242, 254,\n",
       "        254,  52,   0,   0,   0,   0,   0,   0,   0,   0,   0,   0,   0,\n",
       "          0,   0],\n",
       "       [  0,   0,   0,   0,   0,   0,   0,   0,   0,   0, 121, 254, 254,\n",
       "        219,  40,   0,   0,   0,   0,   0,   0,   0,   0,   0,   0,   0,\n",
       "          0,   0],\n",
       "       [  0,   0,   0,   0,   0,   0,   0,   0,   0,   0, 121, 254, 207,\n",
       "         18,   0,   0,   0,   0,   0,   0,   0,   0,   0,   0,   0,   0,\n",
       "          0,   0],\n",
       "       [  0,   0,   0,   0,   0,   0,   0,   0,   0,   0,   0,   0,   0,\n",
       "          0,   0,   0,   0,   0,   0,   0,   0,   0,   0,   0,   0,   0,\n",
       "          0,   0]], dtype=uint8)"
      ]
     },
     "execution_count": 10,
     "metadata": {},
     "output_type": "execute_result"
    }
   ],
   "source": [
    "# This prints out the first test_images \n",
    "ndArray['test_images'][0,:,:]"
   ]
  },
  {
   "cell_type": "code",
   "execution_count": 11,
   "metadata": {
    "scrolled": true
   },
   "outputs": [
    {
     "data": {
      "text/plain": [
       "<matplotlib.image.AxesImage at 0x29f1a8c6358>"
      ]
     },
     "execution_count": 11,
     "metadata": {},
     "output_type": "execute_result"
    },
    {
     "data": {
      "image/png": "[encoded data removed]",
      "text/plain": [
       "<Figure size 432x288 with 1 Axes>"
      ]
     },
     "metadata": {},
     "output_type": "display_data"
    }
   ],
   "source": [
    "# This prints out the first image \n",
    "image = ndArray['test_images'][0,:,:]\n",
    "plt.imshow(image, cmap='gray')"
   ]
  },
  {
   "cell_type": "code",
   "execution_count": 13,
   "metadata": {
    "scrolled": true
   },
   "outputs": [
    {
     "data": {
      "text/plain": [
       "<matplotlib.image.AxesImage at 0x29f1a998fd0>"
      ]
     },
     "execution_count": 13,
     "metadata": {},
     "output_type": "execute_result"
    },
    {
     "data": {
      "image/png": "[encoded data removed]",
      "text/plain": [
       "<Figure size 432x288 with 1 Axes>"
      ]
     },
     "metadata": {},
     "output_type": "display_data"
    }
   ],
   "source": [
    "# This prints out the 11th image \n",
    "image = ndArray['test_images'][10,:,:]\n",
    "plt.imshow(image, cmap='gray')"
   ]
  },
  {
   "cell_type": "markdown",
   "metadata": {},
   "source": [
    "### Downloading Images from the dataset"
   ]
  },
  {
   "cell_type": "code",
   "execution_count": null,
   "metadata": {},
   "outputs": [],
   "source": []
  },
  {
   "cell_type": "markdown",
   "metadata": {},
   "source": [
    "### Links\n",
    "[What is MNIST?](https://en.wikipedia.org/wiki/MNIST_database)<br/>\n",
    "[How to make a directory?](https://thispointer.com/how-to-create-a-directory-in-python/) <br/>\n",
    "[Split()](https://www.geeksforgeeks.org/python-string-split/)<br/>\n",
    "[Dowload http file in Python](https://stackoverflow.com/questions/19602931/basic-http-file-downloading-and-saving-to-disk-in-python)<br/>\n",
    "[Download Files with Python](https://stackabuse.com/download-files-with-python/)<br/>\n",
    "[How do I list all files of a directory?](https://stackoverflow.com/questions/3207219/how-do-i-list-all-files-of-a-directory)<br/>\n",
    "[ipython notebook align table to the left of cell](https://stackoverflow.com/questions/21892570/ipython-notebook-align-table-to-the-left-of-cell)<br/>\n",
    "[How to Delete a file?](https://www.cyberciti.biz/faq/python-delete-remove-file-if-exists-on-disk/)<br/>"
   ]
  }
 ],
 "metadata": {
  "kernelspec": {
   "display_name": "Python 3",
   "language": "python",
   "name": "python3"
  },
  "language_info": {
   "codemirror_mode": {
    "name": "ipython",
    "version": 3
   },
   "file_extension": ".py",
   "mimetype": "text/x-python",
   "name": "python",
   "nbconvert_exporter": "python",
   "pygments_lexer": "ipython3",
   "version": "3.6.5"
  }
 },
 "nbformat": 4,
 "nbformat_minor": 2
}
