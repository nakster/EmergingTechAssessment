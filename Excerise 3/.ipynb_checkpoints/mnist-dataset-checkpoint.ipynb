{
 "cells": [
  {
   "cell_type": "markdown",
   "metadata": {},
   "source": [
    "![](http://4.bp.blogspot.com/-vKTlnfnQDVk/VfDW2jkqoyI/AAAAAAABU_o/BvQZMfZqAho/s1600/mnist.JPG)"
   ]
  },
  {
   "cell_type": "markdown",
   "metadata": {},
   "source": [
    "# What is MNIST Dataset?\n",
    "\n",
    "The MNIST database is a large database of handwritten digits that is commonly used for training various image processing systems.The MNIST dataset was constructed from two datasets of the US National Institute of Standards and Technology. The data is taken from 250 different people which include 50% students and 50% employee from Census Bureau. The purpose of the database is to use it for training and testing in the field of machine learning. \n",
    "\n",
    "MNIST is like the \"Hello World\" of machine learning. Its a database of handwritten digits (0-9), with which you can try out a few machine learning algorithms. The MNIST database contains 60,000 training images and 10,000 testing images.It is a subset of a larger set available from NIST. The digits have been size-normalized and centered in a fixed-size image.\n",
    "\n",
    "The purpose of this notebook is to read the MNIST dataset efficiently into memory in Python.\n"
   ]
  },
  {
   "cell_type": "code",
   "execution_count": null,
   "metadata": {},
   "outputs": [],
   "source": []
  },
  {
   "cell_type": "code",
   "execution_count": null,
   "metadata": {},
   "outputs": [],
   "source": []
  },
  {
   "cell_type": "markdown",
   "metadata": {},
   "source": [
    "### Links\n",
    "[What is MNIST?](https://en.wikipedia.org/wiki/MNIST_database)"
   ]
  }
 ],
 "metadata": {
  "kernelspec": {
   "display_name": "Python 3",
   "language": "python",
   "name": "python3"
  },
  "language_info": {
   "codemirror_mode": {
    "name": "ipython",
    "version": 3
   },
   "file_extension": ".py",
   "mimetype": "text/x-python",
   "name": "python",
   "nbconvert_exporter": "python",
   "pygments_lexer": "ipython3",
   "version": "3.6.5"
  }
 },
 "nbformat": 4,
 "nbformat_minor": 2
}
