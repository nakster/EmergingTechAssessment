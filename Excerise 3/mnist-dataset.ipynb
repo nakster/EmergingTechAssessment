{
 "cells": [
  {
   "cell_type": "markdown",
   "metadata": {},
   "source": [
    "![](http://4.bp.blogspot.com/-vKTlnfnQDVk/VfDW2jkqoyI/AAAAAAABU_o/BvQZMfZqAho/s1600/mnist.JPG)"
   ]
  },
  {
   "cell_type": "markdown",
   "metadata": {},
   "source": [
    "# What is MNIST Dataset?\n",
    "\n",
    "The MNIST database is a large database of handwritten digits that is commonly used for training various image processing systems.The MNIST dataset was constructed from two datasets of the US National Institute of Standards and Technology. The data is taken from 250 different people which include 50% students and 50% employee from Census Bureau. The purpose of the database is to use it for training and testing in the field of machine learning. \n",
    "\n",
    "MNIST is like the \"Hello World\" of machine learning. Its a database of handwritten digits (0-9), with which you can try out a few machine learning algorithms. The MNIST database contains 60,000 training images and 10,000 testing images.It is a subset of a larger set available from NIST. The digits have been size-normalized and centered in a fixed-size image.\n",
    "\n",
    "The purpose of this notebook is to read the MNIST dataset efficiently into memory in Python.\n"
   ]
  },
  {
   "cell_type": "markdown",
   "metadata": {},
   "source": [
    "### Imports"
   ]
  },
  {
   "cell_type": "code",
   "execution_count": 1,
   "metadata": {},
   "outputs": [],
   "source": [
    "import numpy as np\n",
    "import os\n",
    "import urllib.request\n",
    "import gzip\n",
    "import matplotlib.pyplot as plt\n"
   ]
  },
  {
   "cell_type": "markdown",
   "metadata": {},
   "source": [
    "This is for the table to be alligned to the left rather then the middle"
   ]
  },
  {
   "cell_type": "code",
   "execution_count": 2,
   "metadata": {
    "scrolled": true
   },
   "outputs": [
    {
     "data": {
      "text/html": [
       "<style>\n",
       "table {float:left}\n",
       "</style>\n",
       "<!--- This is for the tableto be situated/alligned to the left -->"
      ],
      "text/plain": [
       "<IPython.core.display.HTML object>"
      ]
     },
     "metadata": {},
     "output_type": "display_data"
    }
   ],
   "source": [
    "%%html\n",
    "<style>\n",
    "table {float:left}\n",
    "</style>"
   ]
  },
  {
   "cell_type": "markdown",
   "metadata": {},
   "source": [
    "### Download the dataset to a folder"
   ]
  },
  {
   "cell_type": "code",
   "execution_count": 3,
   "metadata": {},
   "outputs": [],
   "source": [
    "# First make a folder which will store the the downloads\n",
    "path = 'data/'\n",
    "\n",
    "# If the file does not exist then make a new file \n",
    "# This makes sure that a file is made even when it doesnt exist\n",
    "if not os.path.exists(path):\n",
    "    os.makedirs(path)"
   ]
  },
  {
   "cell_type": "markdown",
   "metadata": {},
   "source": [
    "### Get the file url from [Data Set website](http://yann.lecun.com/exdb/mnist/) "
   ]
  },
  {
   "cell_type": "code",
   "execution_count": 3,
   "metadata": {},
   "outputs": [
    {
     "name": "stdout",
     "output_type": "stream",
     "text": [
      "The File Youre trying to download already exists! train-images-idx3-ubyte.gz\n",
      "\n",
      "These are the files in the Directory\n"
     ]
    },
    {
     "data": {
      "text/plain": [
       "['t10k-images-idx3-ubyte.gz',\n",
       " 't10k-labels-idx1-ubyte.gz',\n",
       " 'train-images-idx3-ubyte.gz',\n",
       " 'train-labels-idx1-ubyte.gz']"
      ]
     },
     "execution_count": 3,
     "metadata": {},
     "output_type": "execute_result"
    }
   ],
   "source": [
    "# This is the url we will download the file from \n",
    "# This has all the train images from the database \n",
    "url = 'http://yann.lecun.com/exdb/mnist/train-images-idx3-ubyte.gz'\n",
    "\n",
    "# \"Method returns a list of strings after breaking the given string by the specified separator\"\n",
    "# im using the split method to get the last value whic is the name of the file\n",
    "#filename = url.split('/')[5] # i could do it this way or go to the last value\n",
    "file = url.split('/')[-1]\n",
    "\n",
    "#if the file that im downloading already exists\n",
    "# Then it will not download it \n",
    "if os.path.exists(path+file):\n",
    "    print('The File Youre trying to download already exists!', file)\n",
    "else:\n",
    "    #if the file does not exist the it will download the file \n",
    "    print('The',file, 'Is Downloading')\n",
    "    urllib.request.urlretrieve (url, path+file)\n",
    "    \n",
    "# This here shows how many files exist in the directory \n",
    "print()\n",
    "print('These are the files in the Directory')\n",
    "os.listdir('data')\n"
   ]
  },
  {
   "cell_type": "markdown",
   "metadata": {},
   "source": [
    "### Dowload the rest of the files"
   ]
  },
  {
   "cell_type": "code",
   "execution_count": 4,
   "metadata": {},
   "outputs": [
    {
     "name": "stdout",
     "output_type": "stream",
     "text": [
      "The File Youre trying to download already exists! train-labels-idx1-ubyte.gz\n",
      "The File Youre trying to download already exists! t10k-images-idx3-ubyte.gz\n",
      "The File Youre trying to download already exists! t10k-labels-idx1-ubyte.gz\n",
      "\n",
      "These are the files in the Directory\n"
     ]
    },
    {
     "data": {
      "text/plain": [
       "['t10k-images-idx3-ubyte.gz',\n",
       " 't10k-labels-idx1-ubyte.gz',\n",
       " 'train-images-idx3-ubyte.gz',\n",
       " 'train-labels-idx1-ubyte.gz']"
      ]
     },
     "execution_count": 4,
     "metadata": {},
     "output_type": "execute_result"
    }
   ],
   "source": [
    "# This will store all the rest of urls that i need to download\n",
    "# The Train labels/Test Images /Test Labels\n",
    "urls = ['http://yann.lecun.com/exdb/mnist/train-labels-idx1-ubyte.gz',\n",
    "        'http://yann.lecun.com/exdb/mnist/t10k-images-idx3-ubyte.gz',\n",
    "        'http://yann.lecun.com/exdb/mnist/t10k-labels-idx1-ubyte.gz']\n",
    "\n",
    "# We can go through a for loop and download the files\n",
    "for url in urls:\n",
    "    # We can then split each url to just the file name \n",
    "    file = url.split('/')[-1]\n",
    "    # print(file)\n",
    "    \n",
    "    #Now in the for loop check if the file exists \n",
    "    #if the file that im downloading already exists\n",
    "    # Then it will not download it \n",
    "    if os.path.exists(path+file):\n",
    "        print('The File Youre trying to download already exists!', file)\n",
    "    else:\n",
    "         #if the file does not exist the it will download the file\n",
    "        print('The',file, 'Is Downloading')\n",
    "        urllib.request.urlretrieve (url, path+file)\n",
    "        \n",
    "# This here shows how many files exist in the directory\n",
    "# It should have 4 different files in the folder \n",
    "print()\n",
    "print('These are the files in the Directory')\n",
    "#lists the directory\n",
    "os.listdir('data')"
   ]
  },
  {
   "cell_type": "markdown",
   "metadata": {},
   "source": [
    "### Read the contents of the file "
   ]
  },
  {
   "cell_type": "markdown",
   "metadata": {},
   "source": [
    "##### TRAINING SET IMAGE FILE (train-images-idx3-ubyte)\n",
    "\n",
    "|Offset | Type               | Value           |   Description                   |\n",
    "|:------|:-------------------|:----------------|:--------------------------------|\n",
    "|0000   |32 bit integer      |0x00000801(2051) |magic number                     |\n",
    "|0004   |32 bit integer      |10000 or 60000   |number of images                 |\n",
    "|0008   |32 bit integer      |28               |number of rows                   |\n",
    "|0012   |32 bit integer      |28               |number of columns                |\n",
    "|0016   |unsigned byte       |??               |pixel                            |\n",
    "|0017   |unsigned byte       |??               |pixel                            |\n",
    "|...    |...                 |...              |...                              |\n",
    "|xxxx   |unsigned byte       |??               |pixel                            |\n",
    "\n",
    "<br/>\n",
    "<center> Pixels are organized row-wise. Pixel values are 0 to 255. 0 means background (white), 255 means foreground (black).</center> "
   ]
  },
  {
   "cell_type": "code",
   "execution_count": 4,
   "metadata": {},
   "outputs": [],
   "source": [
    "# open the file and read the contents of the file to a variable called fileC\n",
    "with gzip.open('data/t10k-images-idx3-ubyte.gz', 'rb') as f:\n",
    "    fileC = f.read()"
   ]
  },
  {
   "cell_type": "code",
   "execution_count": 7,
   "metadata": {
    "scrolled": true
   },
   "outputs": [
    {
     "data": {
      "text/plain": [
       "b'\\x00\\x00\\x08\\x03'"
      ]
     },
     "execution_count": 7,
     "metadata": {},
     "output_type": "execute_result"
    }
   ],
   "source": [
    "#The first 4 bits means its a magic number \n",
    "fileC[0:4] #The magic number is an integer (MSB first). The first 2 bytes are always 0. \n",
    "# The third byte codes the type of the data: \n",
    "#The 4-th byte codes the number of dimensions of the vector/matrix: 1 for vectors, 2 for matrices"
   ]
  },
  {
   "cell_type": "code",
   "execution_count": 8,
   "metadata": {},
   "outputs": [
    {
     "data": {
      "text/plain": [
       "2051"
      ]
     },
     "execution_count": 8,
     "metadata": {},
     "output_type": "execute_result"
    }
   ],
   "source": [
    "#The actual value in int\n",
    "int.from_bytes(fileC[0:4], byteorder='big')"
   ]
  },
  {
   "cell_type": "code",
   "execution_count": 9,
   "metadata": {
    "scrolled": true
   },
   "outputs": [
    {
     "name": "stdout",
     "output_type": "stream",
     "text": [
      "b\"\\x00\\x00'\\x10\"\n"
     ]
    },
    {
     "data": {
      "text/plain": [
       "10000"
      ]
     },
     "execution_count": 9,
     "metadata": {},
     "output_type": "execute_result"
    }
   ],
   "source": [
    "print(fileC[4:8]) # This here is the size of the images \n",
    "# its in the binary form so the actual number is 010000 if\n",
    "# you read it the opposite \n",
    "int.from_bytes(fileC[4:8], byteorder='big')"
   ]
  },
  {
   "cell_type": "code",
   "execution_count": 11,
   "metadata": {
    "scrolled": true
   },
   "outputs": [
    {
     "name": "stdout",
     "output_type": "stream",
     "text": [
      "b'\\x00\\x00\\x00\\x1c'\n"
     ]
    },
    {
     "data": {
      "text/plain": [
       "28"
      ]
     },
     "execution_count": 11,
     "metadata": {},
     "output_type": "execute_result"
    }
   ],
   "source": [
    "print(fileC[8:12])# This is the number of rows\n",
    "int.from_bytes(fileC[8:12], byteorder='big') # There are 28 rows "
   ]
  },
  {
   "cell_type": "code",
   "execution_count": 13,
   "metadata": {},
   "outputs": [
    {
     "name": "stdout",
     "output_type": "stream",
     "text": [
      "b'\\x00\\x00\\x00\\x1c'\n"
     ]
    },
    {
     "data": {
      "text/plain": [
       "28"
      ]
     },
     "execution_count": 13,
     "metadata": {},
     "output_type": "execute_result"
    }
   ],
   "source": [
    "print(fileC[12:16])# This is the number of columns\n",
    "int.from_bytes(fileC[12:16], byteorder='big') # There are 28 columns "
   ]
  },
  {
   "cell_type": "code",
   "execution_count": 7,
   "metadata": {},
   "outputs": [
    {
     "data": {
      "text/plain": [
       "<matplotlib.image.AxesImage at 0x2599ecd2ef0>"
      ]
     },
     "execution_count": 7,
     "metadata": {},
     "output_type": "execute_result"
    },
    {
     "data": {
      "image/png": "[encoded data removed]",
      "text/plain": [
       "<Figure size 432x288 with 1 Axes>"
      ]
     },
     "metadata": {},
     "output_type": "display_data"
    }
   ],
   "source": [
    "# 28 * 28 is equal = 784 which is equal to one image \n",
    "# so every 784 pixels is a image \n",
    "image = ~np.array(list(fileC[16:800])).reshape(28,28).astype(np.uint8)\n",
    "plt.imshow(image, cmap='gray')"
   ]
  },
  {
   "cell_type": "code",
   "execution_count": 5,
   "metadata": {
    "scrolled": false
   },
   "outputs": [
    {
     "data": {
      "text/plain": [
       "<matplotlib.image.AxesImage at 0x2599ec463c8>"
      ]
     },
     "execution_count": 5,
     "metadata": {},
     "output_type": "execute_result"
    },
    {
     "data": {
      "image/png": "[encoded data removed]",
      "text/plain": [
       "<Figure size 432x288 with 1 Axes>"
      ]
     },
     "metadata": {},
     "output_type": "display_data"
    }
   ],
   "source": [
    "# 28 * 28 is equal = 784 which is equal to one image \n",
    "# so every 784 pixels is a image \n",
    "image = ~np.array(list(fileC[800:1584])).reshape(28,28).astype(np.uint8)\n",
    "plt.imshow(image, cmap='gray')"
   ]
  },
  {
   "cell_type": "code",
   "execution_count": null,
   "metadata": {},
   "outputs": [],
   "source": []
  },
  {
   "cell_type": "code",
   "execution_count": null,
   "metadata": {},
   "outputs": [],
   "source": []
  },
  {
   "cell_type": "code",
   "execution_count": null,
   "metadata": {},
   "outputs": [],
   "source": []
  },
  {
   "cell_type": "code",
   "execution_count": 11,
   "metadata": {},
   "outputs": [
    {
     "data": {
      "text/html": [
       "<style>\n",
       "table {float:left}\n",
       "</style>"
      ],
      "text/plain": [
       "<IPython.core.display.HTML object>"
      ]
     },
     "metadata": {},
     "output_type": "display_data"
    }
   ],
   "source": []
  },
  {
   "cell_type": "markdown",
   "metadata": {},
   "source": [
    "### Links\n",
    "[What is MNIST?](https://en.wikipedia.org/wiki/MNIST_database)<br/>\n",
    "[How to make a directory?](https://thispointer.com/how-to-create-a-directory-in-python/) <br/>\n",
    "[Split()](https://www.geeksforgeeks.org/python-string-split/)<br/>\n",
    "[Dowload http file in Python](https://stackoverflow.com/questions/19602931/basic-http-file-downloading-and-saving-to-disk-in-python)<br/>\n",
    "[Download Files with Python](https://stackabuse.com/download-files-with-python/)<br/>\n",
    "[How do I list all files of a directory?](https://stackoverflow.com/questions/3207219/how-do-i-list-all-files-of-a-directory)<br/>"
   ]
  }
 ],
 "metadata": {
  "kernelspec": {
   "display_name": "Python 3",
   "language": "python",
   "name": "python3"
  },
  "language_info": {
   "codemirror_mode": {
    "name": "ipython",
    "version": 3
   },
   "file_extension": ".py",
   "mimetype": "text/x-python",
   "name": "python",
   "nbconvert_exporter": "python",
   "pygments_lexer": "ipython3",
   "version": "3.6.5"
  }
 },
 "nbformat": 4,
 "nbformat_minor": 2
}
