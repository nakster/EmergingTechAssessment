{
 "cells": [
  {
   "cell_type": "markdown",
   "metadata": {},
   "source": [
    "![](http://4.bp.blogspot.com/-vKTlnfnQDVk/VfDW2jkqoyI/AAAAAAABU_o/BvQZMfZqAho/s1600/mnist.JPG)"
   ]
  },
  {
   "cell_type": "markdown",
   "metadata": {},
   "source": [
    "# What is MNIST Dataset?\n",
    "\n",
    "The MNIST database is a large database of handwritten digits that is commonly used for training various image processing systems.The MNIST dataset was constructed from two datasets of the US National Institute of Standards and Technology. The data is taken from 250 different people which include 50% students and 50% employee from Census Bureau. The purpose of the database is to use it for training and testing in the field of machine learning. \n",
    "\n",
    "MNIST is like the \"Hello World\" of machine learning. Its a database of handwritten digits (0-9), with which you can try out a few machine learning algorithms. The MNIST database contains 60,000 training images and 10,000 testing images.It is a subset of a larger set available from NIST. The digits have been size-normalized and centered in a fixed-size image.\n",
    "\n",
    "The purpose of this notebook is to read the MNIST dataset efficiently into memory in Python.\n"
   ]
  },
  {
   "cell_type": "markdown",
   "metadata": {},
   "source": [
    "### Imports\n",
    "These are the imports required to run the notebook. \n",
    "- NumPy is the fundamental package for scientific computing with Python. It contains among other things:\n",
    "\n",
    "    - a powerful N-dimensional array object\n",
    "    - sophisticated (broadcasting) functions\n",
    "    - tools for integrating C/C++ and Fortran code\n",
    "    - useful linear algebra, Fourier transform, and random number capabilities \n",
    "- The OS module in Python provides a way of using operating system dependent functionality. \n",
    "- The urllib.request module defines functions and classes which help in opening URLs (mostly HTTP) in a complex world — basic and digest authentication, redirections, cookies and more.\n",
    "- This module provides a simple interface to compress and decompress files just like the GNU programs gzip and gunzip would.\n",
    "- matplotlib.pyplot is a collection of command style functions that make matplotlib work like MATLAB. Each pyplot function makes some change to a figure: e.g., creates a figure, creates a plotting area in a figure, plots some lines in a plotting area, decorates the plot with labels, etc. \n",
    "- The shutil module offers a number of high-level operations on files and collections of files. In particular, functions are provided which support file copying and removal. For operations on individual files.\n",
    "- from skimage.io import imsave for saving the array as png files"
   ]
  },
  {
   "cell_type": "code",
   "execution_count": 1,
   "metadata": {},
   "outputs": [],
   "source": [
    "import numpy as np\n",
    "import os\n",
    "import urllib.request\n",
    "import gzip\n",
    "import matplotlib.pyplot as plt\n",
    "import shutil\n",
    "from skimage.io import imsave"
   ]
  },
  {
   "cell_type": "markdown",
   "metadata": {},
   "source": [
    "This is for the table to be alligned to the left rather then the middle"
   ]
  },
  {
   "cell_type": "code",
   "execution_count": 2,
   "metadata": {
    "scrolled": true
   },
   "outputs": [
    {
     "data": {
      "text/html": [
       "<style>\n",
       "table {margin-left: 0 !important;}\n",
       "</style>"
      ],
      "text/plain": [
       "<IPython.core.display.HTML object>"
      ]
     },
     "metadata": {},
     "output_type": "display_data"
    }
   ],
   "source": [
    "%%html\n",
    "<style>\n",
    "table {margin-left: 0 !important;}\n",
    "</style>"
   ]
  },
  {
   "cell_type": "markdown",
   "metadata": {},
   "source": [
    "### Download the dataset to a folder"
   ]
  },
  {
   "cell_type": "code",
   "execution_count": 3,
   "metadata": {},
   "outputs": [
    {
     "name": "stdout",
     "output_type": "stream",
     "text": [
      "Folder exists\n"
     ]
    }
   ],
   "source": [
    "# First make a folder which will store the the downloads\n",
    "path = 'data/'\n",
    "\n",
    "# If the file does not exist then make a new file \n",
    "# This makes sure that a file is made even when it doesnt exist\n",
    "if not os.path.exists(path):\n",
    "    os.makedirs(path)\n",
    "else:\n",
    "    print(\"Folder exists\")"
   ]
  },
  {
   "cell_type": "markdown",
   "metadata": {},
   "source": [
    "### Get the file url from [Data Set website](http://yann.lecun.com/exdb/mnist/) \n",
    "- First i will use the url \"http://yann.lecun.com/exdb/mnist/train-images-idx3-ubyte.gz\" to download the files. \n",
    "- This has all the train images and test images plus the labels for both sets from the database.\n",
    "\n",
    "### The split method \n",
    "\"Method returns a list of strings after breaking the given string by the specified separator\"\n",
    "- I'm using the split method to get the last value which is the name of the file\n",
    "- Filename = url.split('/')[5] # i could do it this way or go to the last value like url.split('/')[-1]\n",
    "- By splitting the url I get the last value of the url http://yann.lecun.com/exdb/mnist/train-images-idx3-ubyte.gz which is train-images-idx3-ubyte.gz and thats what I will name my file when i download it.\n",
    "\n",
    "### Download \n",
    "- Check if the file I am downloading already exists.\n",
    "- If it does then dont download the file \n",
    "- Else if it doesn't exists then download the file from url to a folder called data.\n",
    "\n",
    "##### Display all the files in the folder\n",
    "os.listdir('data')This gets all the files in the Directory"
   ]
  },
  {
   "cell_type": "code",
   "execution_count": 4,
   "metadata": {},
   "outputs": [
    {
     "name": "stdout",
     "output_type": "stream",
     "text": [
      "The File Youre trying to download already exists! train-images-idx3-ubyte.gz\n",
      "The File Youre trying to download already exists! train-labels-idx1-ubyte.gz\n",
      "The File Youre trying to download already exists! t10k-images-idx3-ubyte.gz\n",
      "The File Youre trying to download already exists! t10k-labels-idx1-ubyte.gz\n",
      "\n",
      "These are the files in the Directory\n"
     ]
    },
    {
     "data": {
      "text/plain": [
       "['t10k-images-idx3-ubyte.gz',\n",
       " 't10k-labels-idx1-ubyte.gz',\n",
       " 'train-images-idx3-ubyte.gz',\n",
       " 'train-labels-idx1-ubyte.gz']"
      ]
     },
     "execution_count": 4,
     "metadata": {},
     "output_type": "execute_result"
    }
   ],
   "source": [
    "# This will store all the rest of urls that i need to download\n",
    "# The Train labels/Test Images /Test Labels\n",
    "urls = ['http://yann.lecun.com/exdb/mnist/train-images-idx3-ubyte.gz',\n",
    "        'http://yann.lecun.com/exdb/mnist/train-labels-idx1-ubyte.gz',\n",
    "        'http://yann.lecun.com/exdb/mnist/t10k-images-idx3-ubyte.gz',\n",
    "        'http://yann.lecun.com/exdb/mnist/t10k-labels-idx1-ubyte.gz']\n",
    "\n",
    "# We can go through a for loop and download the files\n",
    "for url in urls:\n",
    "    # We can then split each url to just the file name \n",
    "    file = url.split('/')[-1]\n",
    "    # print(file)\n",
    "    \n",
    "    #Now in the for loop check if the file exists \n",
    "    #if the file that im downloading already exists\n",
    "    # Then it will not download it \n",
    "    if os.path.exists(path+file):\n",
    "        print('The File Youre trying to download already exists!', file)\n",
    "    else:\n",
    "         #if the file does not exist the it will download the file\n",
    "        print('The',file, 'Is Downloading')\n",
    "        urllib.request.urlretrieve (url, path+file)\n",
    "        \n",
    "# This here shows how many files exist in the directory\n",
    "# It should have 4 different files in the folder \n",
    "print()\n",
    "print('These are the files in the Directory')\n",
    "#lists the directory\n",
    "os.listdir('data')"
   ]
  },
  {
   "cell_type": "markdown",
   "metadata": {},
   "source": [
    "### Read the contents of the file "
   ]
  },
  {
   "cell_type": "markdown",
   "metadata": {},
   "source": [
    "##### TRAINING SET IMAGE FILE (train-images-idx3-ubyte)\n",
    "Pixels are organized row-wise. Pixel values are 0 to 255. 0 means background (white), 255 means foreground (black).\n",
    "\n",
    "|Offset | Type               | Value           |   Description                   |\n",
    "|:------|:-------------------|:----------------|:--------------------------------|\n",
    "|0000   |32 bit integer      |0x00000801(2051) |magic number                     |\n",
    "|0004   |32 bit integer      |10000 or 60000   |number of images                 |\n",
    "|0008   |32 bit integer      |28               |number of rows                   |\n",
    "|0012   |32 bit integer      |28               |number of columns                |\n",
    "|0016   |unsigned byte       |??               |pixel                            |\n",
    "|0017   |unsigned byte       |??               |pixel                            |\n",
    "|...    |...                 |...              |...                              |\n",
    "|xxxx   |unsigned byte       |??               |pixel                            |"
   ]
  },
  {
   "cell_type": "markdown",
   "metadata": {},
   "source": [
    "### Read the contents of the MNIST dataset "
   ]
  },
  {
   "cell_type": "code",
   "execution_count": 5,
   "metadata": {},
   "outputs": [],
   "source": [
    "# open the file and read the contents of the file to a variable called fileC\n",
    "with gzip.open('data/t10k-images-idx3-ubyte.gz', 'rb') as f:\n",
    "    fileC = f.read()"
   ]
  },
  {
   "cell_type": "markdown",
   "metadata": {},
   "source": [
    "### Magic number\n",
    "- The first 4 bits means its a magic number \n",
    "- The magic number is an integer (MSB first). The first 2 bytes are always 0. \n",
    "- The third byte codes the type of the data: \n",
    "- The 4-th byte codes the number of dimensions of the vector/matrix: 1 for vectors, 2 for matrices"
   ]
  },
  {
   "cell_type": "code",
   "execution_count": 6,
   "metadata": {},
   "outputs": [
    {
     "data": {
      "text/plain": [
       "b'\\x00\\x00\\x08\\x03'"
      ]
     },
     "execution_count": 6,
     "metadata": {},
     "output_type": "execute_result"
    }
   ],
   "source": [
    "fileC[0:4] # magic number"
   ]
  },
  {
   "cell_type": "code",
   "execution_count": 7,
   "metadata": {},
   "outputs": [
    {
     "data": {
      "text/plain": [
       "2051"
      ]
     },
     "execution_count": 7,
     "metadata": {},
     "output_type": "execute_result"
    }
   ],
   "source": [
    "#The actual value in int\n",
    "int.from_bytes(fileC[0:4], byteorder='big')"
   ]
  },
  {
   "cell_type": "markdown",
   "metadata": {},
   "source": [
    "#### Number of images \n",
    "- The next 4 bytes are the number of images in the dataset.\n",
    "- its in the binary form so the actual number is 00\\00\\10 if you read it the opposite "
   ]
  },
  {
   "cell_type": "code",
   "execution_count": 8,
   "metadata": {
    "scrolled": true
   },
   "outputs": [
    {
     "name": "stdout",
     "output_type": "stream",
     "text": [
      "b\"\\x00\\x00'\\x10\"\n"
     ]
    },
    {
     "data": {
      "text/plain": [
       "10000"
      ]
     },
     "execution_count": 8,
     "metadata": {},
     "output_type": "execute_result"
    }
   ],
   "source": [
    "print(fileC[4:8]) # This here is the size of the images \n",
    "int.from_bytes(fileC[4:8], byteorder='big')"
   ]
  },
  {
   "cell_type": "markdown",
   "metadata": {},
   "source": [
    "### Number of rows \n",
    "- Each Image has 28 rows and 28 columns \n",
    "- 28 * 28 = 784"
   ]
  },
  {
   "cell_type": "code",
   "execution_count": 9,
   "metadata": {
    "scrolled": true
   },
   "outputs": [
    {
     "name": "stdout",
     "output_type": "stream",
     "text": [
      "b'\\x00\\x00\\x00\\x1c'\n"
     ]
    },
    {
     "data": {
      "text/plain": [
       "28"
      ]
     },
     "execution_count": 9,
     "metadata": {},
     "output_type": "execute_result"
    }
   ],
   "source": [
    "print(fileC[8:12])# This is the number of rows\n",
    "int.from_bytes(fileC[8:12], byteorder='big') # There are 28 rows "
   ]
  },
  {
   "cell_type": "markdown",
   "metadata": {},
   "source": [
    "### Number of Columns"
   ]
  },
  {
   "cell_type": "code",
   "execution_count": 10,
   "metadata": {},
   "outputs": [
    {
     "name": "stdout",
     "output_type": "stream",
     "text": [
      "b'\\x00\\x00\\x00\\x1c'\n"
     ]
    },
    {
     "data": {
      "text/plain": [
       "28"
      ]
     },
     "execution_count": 10,
     "metadata": {},
     "output_type": "execute_result"
    }
   ],
   "source": [
    "print(fileC[12:16])# This is the number of columns\n",
    "int.from_bytes(fileC[12:16], byteorder='big') # There are 28 columns "
   ]
  },
  {
   "cell_type": "markdown",
   "metadata": {},
   "source": [
    "### Plot the first image \n",
    "28 * 28 is equal = 784 which is equal to one image so every 784 pixels is a image "
   ]
  },
  {
   "cell_type": "code",
   "execution_count": 11,
   "metadata": {},
   "outputs": [
    {
     "data": {
      "text/plain": [
       "<matplotlib.image.AxesImage at 0x1e5e4e35cf8>"
      ]
     },
     "execution_count": 11,
     "metadata": {},
     "output_type": "execute_result"
    },
    {
     "data": {
      "image/png": "[encoded data removed]",
      "text/plain": [
       "<Figure size 432x288 with 1 Axes>"
      ]
     },
     "metadata": {},
     "output_type": "display_data"
    }
   ],
   "source": [
    "image = ~np.array(list(fileC[16:800])).reshape(28,28).astype(np.uint8)\n",
    "plt.imshow(image, cmap='gray')"
   ]
  },
  {
   "cell_type": "code",
   "execution_count": 12,
   "metadata": {
    "scrolled": false
   },
   "outputs": [
    {
     "data": {
      "text/plain": [
       "<matplotlib.image.AxesImage at 0x1e5e4ea55c0>"
      ]
     },
     "execution_count": 12,
     "metadata": {},
     "output_type": "execute_result"
    },
    {
     "data": {
      "image/png": "[encoded data removed]",
      "text/plain": [
       "<Figure size 432x288 with 1 Axes>"
      ]
     },
     "metadata": {},
     "output_type": "display_data"
    }
   ],
   "source": [
    "# 28 * 28 is equal = 784 which is equal to one image \n",
    "# so every 784 pixels is a image \n",
    "image = ~np.array(list(fileC[800:1584])).reshape(28,28).astype(np.uint8)\n",
    "plt.imshow(image, cmap='gray')"
   ]
  },
  {
   "cell_type": "markdown",
   "metadata": {},
   "source": [
    "## Save The file as images \n",
    "I am going to try to extract files from the MNIST dataset and save them as images."
   ]
  },
  {
   "cell_type": "markdown",
   "metadata": {},
   "source": [
    "### Extract the .gz Files\n",
    "The files are in a format so we need to extract it. I have already downloaded the files but now I am going to extract it to the same folder.\n",
    "- The folder should have 4 file which i previously downloaded \n",
    "\n",
    "The for loop goes through each of the 4 files and extracts them.\n",
    "- Inside the for loop First checkif the file ends in the .gz format.\n",
    "- If the file is in the right format then open the file zip.open(path+file, 'rb') \n",
    "- removes the .gz file using the split func remove the last value .gz \n",
    "- Use shtil to copy the contents from the files"
   ]
  },
  {
   "cell_type": "code",
   "execution_count": 13,
   "metadata": {},
   "outputs": [
    {
     "name": "stdout",
     "output_type": "stream",
     "text": [
      "Done\n"
     ]
    }
   ],
   "source": [
    "files = os.listdir(path)\n",
    "\n",
    "#the for loop goes through each file and extracts it \n",
    "for file in files:\n",
    "    #checks if the file ends in .gz \n",
    "    if file.endswith('.gz'):\n",
    "        #this reads the file with gzip \n",
    "        with gzip.open(path+file, 'rb') as In:\n",
    "           #removes the .gz file\n",
    "            with open(path+file.split('.')[0], 'wb') as out:\n",
    "                #shutil copies the contents from In to out\n",
    "                shutil.copyfileobj(In, out)\n",
    "print('Done')"
   ]
  },
  {
   "cell_type": "markdown",
   "metadata": {},
   "source": [
    "### Delete the .gz Files\n",
    "I have extracted the dataset and i dont need the .gz files anymore so I am going to delete it."
   ]
  },
  {
   "cell_type": "code",
   "execution_count": 15,
   "metadata": {
    "scrolled": true
   },
   "outputs": [
    {
     "name": "stdout",
     "output_type": "stream",
     "text": [
      "Removed all the .GZ files\n"
     ]
    }
   ],
   "source": [
    "for file in files:\n",
    "    if file.endswith('.gz'):\n",
    "        os.remove(path+file)   \n",
    "    else:\n",
    "        print('All files have been Removed')\n",
    "              \n",
    "print ('Removed all the .GZ files')"
   ]
  },
  {
   "cell_type": "markdown",
   "metadata": {},
   "source": [
    "### Convert the ubyte files to numpy array\n",
    "I will convert the ubyte into 4 n dimensional arrays.\n",
    "\n",
    "| Key           |  Type        |Shape         |\n",
    "|---------------|--------------|--------------|\n",
    "| train_images  |numpy ndarray |[60000,28,28] |\n",
    "| test_images   |numpy ndarray |[10000,28,28] |\n",
    "| train_labels  |numpy ndarray |[60000]       |\n",
    "| test_labels   |numpy ndarray |[10000]       |\n",
    "\n",
    "- First check inside the for loop if the files end with ubyte (These are the files that i extracted earlier)\n",
    "- If the file does match then proceed with opening the file:\n",
    "    - read the file and get the magic number which is 4 bytes\n",
    "    - Also read the size of the images \n",
    "    \n",
    "- Then check if the file image size is 10,000 or 60,000: \n",
    "    - if its 10,000 then its a test image/label file\n",
    "    - if its 60,000 then its Train image/label.\n",
    "  \n",
    "- Check if the magic number is 2051 or 2049:\n",
    "    - If the magic number is 2051 then we know the file is a either train images or test images\n",
    "        - Get the rows and cols from the dataset \n",
    "        - read values as ints and start from 16 as pixels being from byte 16\n",
    "        - Then the int array to reshape(size,rows,cols)\n",
    "    - If the magic number is 2049 then we know the file is eithe train or test labels.\n",
    "        - read values as ints \n",
    "        - reshape int array to reshape(size)\n",
    "        \n",
    "- Lastly add all the values to the array:\n",
    "    - ndArray[trainOrTest+'_'+imgOrLAbel] = parsed\n",
    "    - The files go one by one and its goes through the if statements and the adds it to the array \n"
   ]
  },
  {
   "cell_type": "code",
   "execution_count": 17,
   "metadata": {},
   "outputs": [
    {
     "name": "stdout",
     "output_type": "stream",
     "text": [
      "Done\n"
     ]
    }
   ],
   "source": [
    "# Variables\n",
    "files = os.listdir(path)\n",
    "ndArray = {}\n",
    "\n",
    "#go through a loop and add the files to the ndarray\n",
    "for file in files:\n",
    "    #if the extracted file matches then proceed\n",
    "    if file.endswith('ubyte'):\n",
    "        #print('Reading the file', file)\n",
    "        #open the file if the it ends with ubyte and read \n",
    "        with open (path+file,'rb') as f:\n",
    "            #read the file \n",
    "            data = f.read() \n",
    "            # find out the magic number of the file\n",
    "            magic = int.from_bytes(data[0:4], byteorder='big')\n",
    "            # find out the size of the images \n",
    "            size = int.from_bytes(data[4:8], byteorder='big')\n",
    "            \n",
    "            # this is the size of Test images and labels \n",
    "            if (size==10000):\n",
    "                #here we will know if the file is a test image/label \n",
    "                trainOrTest = 'test'\n",
    "            # this is the size for training labels and images \n",
    "            elif (size == 60000):\n",
    "                #here we will know if the file is a Training image/label \n",
    "                trainOrTest = 'train'\n",
    "            # This checks the magic number 2051 which is for image files \n",
    "            if (magic == 2051):\n",
    "                imgOrLAbel = 'images'\n",
    "                #This gets the nummber of rows \n",
    "                rows = int.from_bytes(data[8:12], byteorder='big')\n",
    "                #this gets the number of columns \n",
    "                cols = int.from_bytes(data[12:16], byteorder='big')\n",
    "                # read values as ints # start from 16 as pixels being from byte 16\n",
    "                parsed = np.frombuffer(data,dtype = np.uint8, offset = 16) \n",
    "                # we will reshape the length, 28 x 28 \n",
    "                parsed = parsed.reshape(size,rows,cols)  \n",
    "            # this checks the magic number 2049 which is for labels \n",
    "            elif (magic == 2049):\n",
    "                imgOrLAbel = 'labels'\n",
    "                # read values as ints\n",
    "                parsed = np.frombuffer(data, dtype=np.uint8, offset=8)\n",
    "                #reshape \n",
    "                parsed = parsed.reshape(size)\n",
    "            #save each file as a array with their key \n",
    "            ndArray[trainOrTest+'_'+imgOrLAbel] = parsed\n",
    "    else:\n",
    "        print('No File Found')\n",
    "print('Done')"
   ]
  },
  {
   "cell_type": "markdown",
   "metadata": {},
   "source": [
    "### Check the structure of the array"
   ]
  },
  {
   "cell_type": "code",
   "execution_count": 18,
   "metadata": {},
   "outputs": [
    {
     "data": {
      "text/plain": [
       "dict_keys(['test_images', 'test_labels', 'train_images', 'train_labels'])"
      ]
     },
     "execution_count": 18,
     "metadata": {},
     "output_type": "execute_result"
    }
   ],
   "source": [
    "#check if the arrays are created for each file \n",
    "ndArray.keys()"
   ]
  },
  {
   "cell_type": "code",
   "execution_count": 19,
   "metadata": {},
   "outputs": [
    {
     "data": {
      "text/plain": [
       "(10000, 28, 28)"
      ]
     },
     "execution_count": 19,
     "metadata": {},
     "output_type": "execute_result"
    }
   ],
   "source": [
    "# this shows the shap of the test images \n",
    "# It has 10000 images and rows = 28 and cols = 28\n",
    "ndArray['test_images'].shape"
   ]
  },
  {
   "cell_type": "markdown",
   "metadata": {},
   "source": [
    "### Print the first image in the array"
   ]
  },
  {
   "cell_type": "code",
   "execution_count": 9,
   "metadata": {
    "scrolled": true
   },
   "outputs": [
    {
     "data": {
      "text/plain": [
       "array([[  0,   0,   0,   0,   0,   0,   0,   0,   0,   0,   0,   0,   0,\n",
       "          0,   0,   0,   0,   0,   0,   0,   0,   0,   0,   0,   0,   0,\n",
       "          0,   0],\n",
       "       [  0,   0,   0,   0,   0,   0,   0,   0,   0,   0,   0,   0,   0,\n",
       "          0,   0,   0,   0,   0,   0,   0,   0,   0,   0,   0,   0,   0,\n",
       "          0,   0],\n",
       "       [  0,   0,   0,   0,   0,   0,   0,   0,   0,   0,   0,   0,   0,\n",
       "          0,   0,   0,   0,   0,   0,   0,   0,   0,   0,   0,   0,   0,\n",
       "          0,   0],\n",
       "       [  0,   0,   0,   0,   0,   0,   0,   0,   0,   0,   0,   0,   0,\n",
       "          0,   0,   0,   0,   0,   0,   0,   0,   0,   0,   0,   0,   0,\n",
       "          0,   0],\n",
       "       [  0,   0,   0,   0,   0,   0,   0,   0,   0,   0,   0,   0,   0,\n",
       "          0,   0,   0,   0,   0,   0,   0,   0,   0,   0,   0,   0,   0,\n",
       "          0,   0],\n",
       "       [  0,   0,   0,   0,   0,   0,   0,   0,   0,   0,   0,   0,   0,\n",
       "          0,   0,   0,   0,   0,   0,   0,   0,   0,   0,   0,   0,   0,\n",
       "          0,   0],\n",
       "       [  0,   0,   0,   0,   0,   0,   0,   0,   0,   0,   0,   0,   0,\n",
       "          0,   0,   0,   0,   0,   0,   0,   0,   0,   0,   0,   0,   0,\n",
       "          0,   0],\n",
       "       [  0,   0,   0,   0,   0,   0,  84, 185, 159, 151,  60,  36,   0,\n",
       "          0,   0,   0,   0,   0,   0,   0,   0,   0,   0,   0,   0,   0,\n",
       "          0,   0],\n",
       "       [  0,   0,   0,   0,   0,   0, 222, 254, 254, 254, 254, 241, 198,\n",
       "        198, 198, 198, 198, 198, 198, 198, 170,  52,   0,   0,   0,   0,\n",
       "          0,   0],\n",
       "       [  0,   0,   0,   0,   0,   0,  67, 114,  72, 114, 163, 227, 254,\n",
       "        225, 254, 254, 254, 250, 229, 254, 254, 140,   0,   0,   0,   0,\n",
       "          0,   0],\n",
       "       [  0,   0,   0,   0,   0,   0,   0,   0,   0,   0,   0,  17,  66,\n",
       "         14,  67,  67,  67,  59,  21, 236, 254, 106,   0,   0,   0,   0,\n",
       "          0,   0],\n",
       "       [  0,   0,   0,   0,   0,   0,   0,   0,   0,   0,   0,   0,   0,\n",
       "          0,   0,   0,   0,   0,  83, 253, 209,  18,   0,   0,   0,   0,\n",
       "          0,   0],\n",
       "       [  0,   0,   0,   0,   0,   0,   0,   0,   0,   0,   0,   0,   0,\n",
       "          0,   0,   0,   0,  22, 233, 255,  83,   0,   0,   0,   0,   0,\n",
       "          0,   0],\n",
       "       [  0,   0,   0,   0,   0,   0,   0,   0,   0,   0,   0,   0,   0,\n",
       "          0,   0,   0,   0, 129, 254, 238,  44,   0,   0,   0,   0,   0,\n",
       "          0,   0],\n",
       "       [  0,   0,   0,   0,   0,   0,   0,   0,   0,   0,   0,   0,   0,\n",
       "          0,   0,   0,  59, 249, 254,  62,   0,   0,   0,   0,   0,   0,\n",
       "          0,   0],\n",
       "       [  0,   0,   0,   0,   0,   0,   0,   0,   0,   0,   0,   0,   0,\n",
       "          0,   0,   0, 133, 254, 187,   5,   0,   0,   0,   0,   0,   0,\n",
       "          0,   0],\n",
       "       [  0,   0,   0,   0,   0,   0,   0,   0,   0,   0,   0,   0,   0,\n",
       "          0,   0,   9, 205, 248,  58,   0,   0,   0,   0,   0,   0,   0,\n",
       "          0,   0],\n",
       "       [  0,   0,   0,   0,   0,   0,   0,   0,   0,   0,   0,   0,   0,\n",
       "          0,   0, 126, 254, 182,   0,   0,   0,   0,   0,   0,   0,   0,\n",
       "          0,   0],\n",
       "       [  0,   0,   0,   0,   0,   0,   0,   0,   0,   0,   0,   0,   0,\n",
       "          0,  75, 251, 240,  57,   0,   0,   0,   0,   0,   0,   0,   0,\n",
       "          0,   0],\n",
       "       [  0,   0,   0,   0,   0,   0,   0,   0,   0,   0,   0,   0,   0,\n",
       "         19, 221, 254, 166,   0,   0,   0,   0,   0,   0,   0,   0,   0,\n",
       "          0,   0],\n",
       "       [  0,   0,   0,   0,   0,   0,   0,   0,   0,   0,   0,   0,   3,\n",
       "        203, 254, 219,  35,   0,   0,   0,   0,   0,   0,   0,   0,   0,\n",
       "          0,   0],\n",
       "       [  0,   0,   0,   0,   0,   0,   0,   0,   0,   0,   0,   0,  38,\n",
       "        254, 254,  77,   0,   0,   0,   0,   0,   0,   0,   0,   0,   0,\n",
       "          0,   0],\n",
       "       [  0,   0,   0,   0,   0,   0,   0,   0,   0,   0,   0,  31, 224,\n",
       "        254, 115,   1,   0,   0,   0,   0,   0,   0,   0,   0,   0,   0,\n",
       "          0,   0],\n",
       "       [  0,   0,   0,   0,   0,   0,   0,   0,   0,   0,   0, 133, 254,\n",
       "        254,  52,   0,   0,   0,   0,   0,   0,   0,   0,   0,   0,   0,\n",
       "          0,   0],\n",
       "       [  0,   0,   0,   0,   0,   0,   0,   0,   0,   0,  61, 242, 254,\n",
       "        254,  52,   0,   0,   0,   0,   0,   0,   0,   0,   0,   0,   0,\n",
       "          0,   0],\n",
       "       [  0,   0,   0,   0,   0,   0,   0,   0,   0,   0, 121, 254, 254,\n",
       "        219,  40,   0,   0,   0,   0,   0,   0,   0,   0,   0,   0,   0,\n",
       "          0,   0],\n",
       "       [  0,   0,   0,   0,   0,   0,   0,   0,   0,   0, 121, 254, 207,\n",
       "         18,   0,   0,   0,   0,   0,   0,   0,   0,   0,   0,   0,   0,\n",
       "          0,   0],\n",
       "       [  0,   0,   0,   0,   0,   0,   0,   0,   0,   0,   0,   0,   0,\n",
       "          0,   0,   0,   0,   0,   0,   0,   0,   0,   0,   0,   0,   0,\n",
       "          0,   0]], dtype=uint8)"
      ]
     },
     "execution_count": 9,
     "metadata": {},
     "output_type": "execute_result"
    }
   ],
   "source": [
    "# This prints out the first test_images \n",
    "ndArray['test_images'][0,:,:]"
   ]
  },
  {
   "cell_type": "markdown",
   "metadata": {},
   "source": [
    "### Plot the first image in the array"
   ]
  },
  {
   "cell_type": "code",
   "execution_count": 20,
   "metadata": {
    "scrolled": true
   },
   "outputs": [
    {
     "data": {
      "text/plain": [
       "<matplotlib.image.AxesImage at 0x1e5e8414198>"
      ]
     },
     "execution_count": 20,
     "metadata": {},
     "output_type": "execute_result"
    },
    {
     "data": {
      "image/png": "[encoded data removed]",
      "text/plain": [
       "<Figure size 432x288 with 1 Axes>"
      ]
     },
     "metadata": {},
     "output_type": "display_data"
    }
   ],
   "source": [
    "# This prints out the first image \n",
    "image = ndArray['test_images'][0,:,:]\n",
    "plt.imshow(image, cmap='Greys')"
   ]
  },
  {
   "cell_type": "code",
   "execution_count": 21,
   "metadata": {
    "scrolled": true
   },
   "outputs": [
    {
     "name": "stdout",
     "output_type": "stream",
     "text": [
      "The image number is:  0\n"
     ]
    },
    {
     "data": {
      "image/png": "[encoded data removed]",
      "text/plain": [
       "<Figure size 432x288 with 1 Axes>"
      ]
     },
     "metadata": {},
     "output_type": "display_data"
    }
   ],
   "source": [
    "# This prints out the 11th image from the array\n",
    "image = ndArray['test_images'][10,:,:]\n",
    "plt.imshow(image, cmap='Greys')\n",
    "# we can print the label to see if it matches with the test image [10]\n",
    "print('The image number is: ', ndArray['test_labels'][10]) # it has the same label as the image "
   ]
  },
  {
   "cell_type": "markdown",
   "metadata": {},
   "source": [
    "### Downloading Images from the Array we created \n",
    "Make a for loop that saves the images for Test and Train consecutively.\n",
    "- inside the for loop make two variables and intialise the Train_images and Train_label from the Array.\n",
    "- for the images variable get the first value images.shape[0] which is the size of the images\n",
    "- Then go through another for loop \"for index in range (noOfImages)\" which runs for the size of the images\n",
    "- inside the second for loop get the index of image and label\n",
    "- check if the folder exits for the label at that index if doesn't then create a folder\n",
    "- Then get the size of the label folder \n",
    "- Lastly save the image with the length of the folder + 1"
   ]
  },
  {
   "cell_type": "code",
   "execution_count": 22,
   "metadata": {
    "scrolled": true
   },
   "outputs": [
    {
     "name": "stdout",
     "output_type": "stream",
     "text": [
      "train 0\n",
      "train 2000\n",
      "train 4000\n",
      "train 6000\n",
      "train 8000\n",
      "train 10000\n",
      "train 12000\n",
      "train 14000\n",
      "train 16000\n",
      "train 18000\n",
      "train 20000\n",
      "train 22000\n",
      "train 24000\n",
      "train 26000\n",
      "train 28000\n",
      "train 30000\n",
      "train 32000\n",
      "train 34000\n",
      "train 36000\n",
      "train 38000\n",
      "train 40000\n",
      "train 42000\n",
      "train 44000\n",
      "train 46000\n",
      "train 48000\n",
      "train 50000\n",
      "train 52000\n",
      "train 54000\n",
      "train 56000\n",
      "train 58000\n",
      "test 0\n",
      "test 2000\n",
      "test 4000\n",
      "test 6000\n",
      "test 8000\n",
      "Done\n"
     ]
    }
   ],
   "source": [
    "#To download all the pngs it takes about 10 Minutes \n",
    "# make a array \n",
    "traOrTests = ['train','test']\n",
    "\n",
    "for traOrTest in traOrTests:  \n",
    "    #this adds both train_images & test_images \n",
    "    images = ndArray[traOrTest+'_images']  \n",
    "    #this adds both train_labels & test_labels \n",
    "    labels = ndArray[traOrTest+'_labels']   \n",
    "    noOfImages = images.shape[0]# zero gets the first value of the array which is the size of the images\n",
    "   \n",
    "    #the for loop goes through both of the samples 60000 and 10000 \n",
    "    for index in range (noOfImages):\n",
    "        #here the traOrTest = train or test and the index is from 0 to 60000 and 0 to 10000\n",
    "        \n",
    "        if (index % 2000 == 0):\n",
    "            print(traOrTest, index) \n",
    "            \n",
    "        #image gets the current index images[1] as the array \n",
    "        image = images[index]\n",
    "        # label is = to the current index \n",
    "        label = labels[index] \n",
    "        \n",
    "        # If a folder does not exist then make one\n",
    "        # path2 = 'data/data'\n",
    "        # 'data/data/train/0/' basically here it checks if lets say 'data/data/train/2' exists\n",
    "        # if it doesnt then it makes a new folder \n",
    "        if not os.path.exists(path+traOrTest+'/'+str(label)+'/'):  \n",
    "            #make the directorys \n",
    "            os.makedirs(path+traOrTest+'/'+str(label)+'/')   \n",
    "        # Here lets say the next image is of number 4 \n",
    "        # here we'll get the length of the 'data/data/train/4'\n",
    "        filenumber = len(os.listdir(path+traOrTest+'/'+str(label)+'/'))\n",
    "        #And the then we will save the image with the length of the folder + 1\n",
    "        imsave(path+traOrTest+'/'+str(label)+'/%05d.png'%(filenumber+1),image)\n",
    "        \n",
    "print('Done')\n",
    "    "
   ]
  },
  {
   "cell_type": "markdown",
   "metadata": {},
   "source": [
    "### Links\n",
    "[What is MNIST?](https://en.wikipedia.org/wiki/MNIST_database)<br/>\n",
    "[How to make a directory?](https://thispointer.com/how-to-create-a-directory-in-python/) <br/>\n",
    "[Split()](https://www.geeksforgeeks.org/python-string-split/)<br/>\n",
    "[Dowload http file in Python](https://stackoverflow.com/questions/19602931/basic-http-file-downloading-and-saving-to-disk-in-python)<br/>\n",
    "[Download Files with Python](https://stackabuse.com/download-files-with-python/)<br/>\n",
    "[How do I list all files of a directory?](https://stackoverflow.com/questions/3207219/how-do-i-list-all-files-of-a-directory)<br/>\n",
    "[ipython notebook align table to the left of cell](https://stackoverflow.com/questions/21892570/ipython-notebook-align-table-to-the-left-of-cell)<br/>\n",
    "[How to Delete a file?](https://www.cyberciti.biz/faq/python-delete-remove-file-if-exists-on-disk/)<br/>\n",
    "[matplotlib](https://matplotlib.org/users/pyplot_tutorial.html)<br/>\n",
    "[Numpy](http://www.numpy.org/)"
   ]
  }
 ],
 "metadata": {
  "kernelspec": {
   "display_name": "Python 3",
   "language": "python",
   "name": "python3"
  },
  "language_info": {
   "codemirror_mode": {
    "name": "ipython",
    "version": 3
   },
   "file_extension": ".py",
   "mimetype": "text/x-python",
   "name": "python",
   "nbconvert_exporter": "python",
   "pygments_lexer": "ipython3",
   "version": "3.6.5"
  }
 },
 "nbformat": 4,
 "nbformat_minor": 2
}
