{
 "cells": [
  {
   "cell_type": "markdown",
   "metadata": {},
   "source": [
    "![](https://upload.wikimedia.org/wikipedia/commons/thumb/1/1a/NumPy_logo.svg/1200px-NumPy_logo.svg.png)\n",
    "#### NumPy is the fundamental package for scientific computing with Python. It contains among other things:\n",
    "\n",
    "* A powerful N-dimensional array object\n",
    "* Sophisticated (broadcasting) functions\n",
    "* Tools for integrating C/C++ and Fortran code\n",
    "* Useful linear algebra, Fourier transform, and random number capabilities\n",
    "\n",
    "Numpy is a powerfull set of tools to perform mathematical operations of on lists of numbers. Numpy is faster than python and is builds on (and is a successor to) the successful Numeric array object. Its goal is to create the corner-stone for a useful environment for scientific computing."
   ]
  },
  {
   "cell_type": "markdown",
   "metadata": {},
   "source": [
    "### Import The Library \n",
    "First, You have to import Numpy as np. This helps writing code and it's almost a standard in scientific work."
   ]
  },
  {
   "cell_type": "code",
   "execution_count": 1,
   "metadata": {},
   "outputs": [],
   "source": [
    "import numpy as np"
   ]
  },
  {
   "cell_type": "markdown",
   "metadata": {},
   "source": [
    "### The Rand Function of the random package in Numpy\n",
    "\n",
    "#### numpy.random.rand(d0, d1, ..., dn) <br />\n",
    "<mark>Parameters:</mark> d0, d1, …, dn : int, optional <br/>\n",
    "* The dimensions of the returned array, should all be positive. If no argument is given a single Python float is returned.<br/>\n",
    "\n",
    "<mark>Returns:</mark> Array of defined shape, filled with random values."
   ]
  },
  {
   "cell_type": "code",
   "execution_count": 2,
   "metadata": {},
   "outputs": [],
   "source": [
    "x = np.random.rand(100) #This is how you randomly fill one dimensional array with random values"
   ]
  },
  {
   "cell_type": "markdown",
   "metadata": {},
   "source": [
    "If one value is added to the parameter  of the rand function it will generate one dimension array of random values"
   ]
  },
  {
   "cell_type": "code",
   "execution_count": 3,
   "metadata": {},
   "outputs": [
    {
     "data": {
      "text/plain": [
       "(array([15., 11.,  6., 12., 10.,  6., 10.,  9., 13.,  8.]),\n",
       " array([0.00889717, 0.10787351, 0.20684984, 0.30582617, 0.4048025 ,\n",
       "        0.50377883, 0.60275516, 0.70173149, 0.80070782, 0.89968415,\n",
       "        0.99866049]),\n",
       " <a list of 10 Patch objects>)"
      ]
     },
     "execution_count": 3,
     "metadata": {},
     "output_type": "execute_result"
    },
    {
     "data": {
      "image/png": "[encoded data removed]",
      "text/plain": [
       "<Figure size 432x288 with 1 Axes>"
      ]
     },
     "metadata": {},
     "output_type": "display_data"
    }
   ],
   "source": [
    "%matplotlib inline\n",
    "import matplotlib.pyplot as plt\n",
    "from mpl_toolkits.mplot3d import Axes3D\n",
    "plt.hist(x) # displays the histagram of the random values generated by the rand fuction\n",
    "#plt.show()"
   ]
  },
  {
   "cell_type": "code",
   "execution_count": 4,
   "metadata": {},
   "outputs": [
    {
     "data": {
      "text/plain": [
       "(0.01670705021464136, 0.9602318200725064)"
      ]
     },
     "execution_count": 4,
     "metadata": {},
     "output_type": "execute_result"
    }
   ],
   "source": [
    "y= np.random.rand(10,4) #2D Array filled with random values\n",
    "Ymin, Ymax = y.min(), y.max() #useing the min and max function to get the minimum amd maximux value from the array\n",
    "Ymin, Ymax"
   ]
  },
  {
   "cell_type": "code",
   "execution_count": 5,
   "metadata": {
    "scrolled": true
   },
   "outputs": [
    {
     "data": {
      "text/plain": [
       "array([[0.51160146, 0.24592933, 0.03279021, 0.71874443],\n",
       "       [0.48459215, 0.04208405, 0.60448994, 0.73738241],\n",
       "       [0.06834739, 0.2537725 , 0.36736251, 0.01670705],\n",
       "       [0.87215389, 0.15692017, 0.96023182, 0.58059614],\n",
       "       [0.80071342, 0.47392448, 0.21045009, 0.2451299 ],\n",
       "       [0.11093918, 0.27294686, 0.73502234, 0.88411774],\n",
       "       [0.08514528, 0.62768826, 0.29866774, 0.14384694],\n",
       "       [0.47952889, 0.94011559, 0.86842019, 0.62891593],\n",
       "       [0.54153131, 0.48588174, 0.58509703, 0.75945873],\n",
       "       [0.26994758, 0.84659278, 0.73358647, 0.89064476]])"
      ]
     },
     "execution_count": 5,
     "metadata": {},
     "output_type": "execute_result"
    }
   ],
   "source": [
    "y"
   ]
  },
  {
   "cell_type": "code",
   "execution_count": 11,
   "metadata": {
    "scrolled": false
   },
   "outputs": [
    {
     "data": {
      "image/png": "[encoded data removed]",
      "text/plain": [
       "<Figure size 432x288 with 1 Axes>"
      ]
     },
     "metadata": {},
     "output_type": "display_data"
    }
   ],
   "source": [
    "plt.plot(y,'b.')\n",
    "plt.show()"
   ]
  },
  {
   "cell_type": "code",
   "execution_count": 12,
   "metadata": {},
   "outputs": [
    {
     "data": {
      "text/plain": [
       "array([[[0.91597323, 0.59356314, 0.07457331, 0.5043212 ],\n",
       "        [0.87588781, 0.23993982, 0.54109436, 0.96956604],\n",
       "        [0.91318627, 0.00999204, 0.93222067, 0.96803356],\n",
       "        [0.02656451, 0.07325712, 0.6222497 , 0.73444712]],\n",
       "\n",
       "       [[0.28490802, 0.01649621, 0.40839743, 0.1652352 ],\n",
       "        [0.01487643, 0.84667138, 0.58051229, 0.92193682],\n",
       "        [0.09329003, 0.43146423, 0.15425178, 0.63577065],\n",
       "        [0.08785589, 0.05172548, 0.06559864, 0.12657298]],\n",
       "\n",
       "       [[0.82812299, 0.52715191, 0.88481881, 0.90543582],\n",
       "        [0.15156808, 0.03659553, 0.88016446, 0.54771747],\n",
       "        [0.06738618, 0.42935168, 0.67137287, 0.56598997],\n",
       "        [0.08676474, 0.68819134, 0.02938755, 0.66707704]],\n",
       "\n",
       "       [[0.95183123, 0.03419773, 0.90900232, 0.68989913],\n",
       "        [0.81570915, 0.59779811, 0.30257827, 0.52151003],\n",
       "        [0.40564709, 0.23920494, 0.30407901, 0.40735783],\n",
       "        [0.9267787 , 0.14866667, 0.63577342, 0.4049922 ]],\n",
       "\n",
       "       [[0.08584989, 0.98848806, 0.59557028, 0.39202045],\n",
       "        [0.93467638, 0.40815633, 0.87172105, 0.23309276],\n",
       "        [0.640243  , 0.80516179, 0.97995098, 0.33241595],\n",
       "        [0.46268847, 0.95201272, 0.46030607, 0.74145381]]])"
      ]
     },
     "execution_count": 12,
     "metadata": {},
     "output_type": "execute_result"
    }
   ],
   "source": [
    "a = np.random.rand(5,4,4) #3D Array filled with random values\n",
    "a"
   ]
  },
  {
   "cell_type": "code",
   "execution_count": 13,
   "metadata": {},
   "outputs": [
    {
     "data": {
      "text/plain": [
       "(array([0, 0, 0, 0, 0, 0, 0, 0, 0, 0, 0, 0, 0, 0, 0, 0, 1, 1, 1, 1, 1, 1,\n",
       "        1, 1, 1, 1, 1, 1, 1, 1, 1, 1, 2, 2, 2, 2, 2, 2, 2, 2, 2, 2, 2, 2,\n",
       "        2, 2, 2, 2, 3, 3, 3, 3, 3, 3, 3, 3, 3, 3, 3, 3, 3, 3, 3, 3, 4, 4,\n",
       "        4, 4, 4, 4, 4, 4, 4, 4, 4, 4, 4, 4, 4, 4], dtype=int64),\n",
       " array([0, 0, 0, 0, 1, 1, 1, 1, 2, 2, 2, 2, 3, 3, 3, 3, 0, 0, 0, 0, 1, 1,\n",
       "        1, 1, 2, 2, 2, 2, 3, 3, 3, 3, 0, 0, 0, 0, 1, 1, 1, 1, 2, 2, 2, 2,\n",
       "        3, 3, 3, 3, 0, 0, 0, 0, 1, 1, 1, 1, 2, 2, 2, 2, 3, 3, 3, 3, 0, 0,\n",
       "        0, 0, 1, 1, 1, 1, 2, 2, 2, 2, 3, 3, 3, 3], dtype=int64),\n",
       " array([0, 1, 2, 3, 0, 1, 2, 3, 0, 1, 2, 3, 0, 1, 2, 3, 0, 1, 2, 3, 0, 1,\n",
       "        2, 3, 0, 1, 2, 3, 0, 1, 2, 3, 0, 1, 2, 3, 0, 1, 2, 3, 0, 1, 2, 3,\n",
       "        0, 1, 2, 3, 0, 1, 2, 3, 0, 1, 2, 3, 0, 1, 2, 3, 0, 1, 2, 3, 0, 1,\n",
       "        2, 3, 0, 1, 2, 3, 0, 1, 2, 3, 0, 1, 2, 3], dtype=int64))"
      ]
     },
     "execution_count": 13,
     "metadata": {},
     "output_type": "execute_result"
    }
   ],
   "source": [
    "a.nonzero() #find where the nonzero elements are located"
   ]
  },
  {
   "cell_type": "code",
   "execution_count": 14,
   "metadata": {},
   "outputs": [
    {
     "data": {
      "text/plain": [
       "<mpl_toolkits.mplot3d.art3d.Path3DCollection at 0x1c4adf450b8>"
      ]
     },
     "execution_count": 14,
     "metadata": {},
     "output_type": "execute_result"
    },
    {
     "data": {
      "image/png": "[encoded data removed]",
      "text/plain": [
       "<Figure size 432x288 with 1 Axes>"
      ]
     },
     "metadata": {},
     "output_type": "display_data"
    }
   ],
   "source": [
    "# Displaying the 3d array of random values\n",
    "z,x,y = a.nonzero()\n",
    "fig = plt.figure()\n",
    "ax = fig.add_subplot(111, projection='3d')\n",
    "ax.scatter(x, y, z, c= 'blue')"
   ]
  },
  {
   "cell_type": "code",
   "execution_count": null,
   "metadata": {},
   "outputs": [],
   "source": []
  },
  {
   "cell_type": "code",
   "execution_count": null,
   "metadata": {},
   "outputs": [],
   "source": []
  },
  {
   "cell_type": "code",
   "execution_count": null,
   "metadata": {},
   "outputs": [],
   "source": []
  },
  {
   "cell_type": "code",
   "execution_count": null,
   "metadata": {},
   "outputs": [],
   "source": []
  },
  {
   "cell_type": "code",
   "execution_count": null,
   "metadata": {},
   "outputs": [],
   "source": []
  },
  {
   "cell_type": "code",
   "execution_count": null,
   "metadata": {},
   "outputs": [],
   "source": []
  },
  {
   "cell_type": "code",
   "execution_count": null,
   "metadata": {},
   "outputs": [],
   "source": []
  },
  {
   "cell_type": "code",
   "execution_count": null,
   "metadata": {},
   "outputs": [],
   "source": []
  },
  {
   "cell_type": "code",
   "execution_count": null,
   "metadata": {},
   "outputs": [],
   "source": []
  },
  {
   "cell_type": "code",
   "execution_count": null,
   "metadata": {},
   "outputs": [],
   "source": []
  },
  {
   "cell_type": "code",
   "execution_count": null,
   "metadata": {},
   "outputs": [],
   "source": []
  },
  {
   "cell_type": "code",
   "execution_count": null,
   "metadata": {},
   "outputs": [],
   "source": []
  },
  {
   "cell_type": "code",
   "execution_count": null,
   "metadata": {},
   "outputs": [],
   "source": []
  },
  {
   "cell_type": "code",
   "execution_count": null,
   "metadata": {},
   "outputs": [],
   "source": []
  },
  {
   "cell_type": "markdown",
   "metadata": {},
   "source": [
    "#### Links\n",
    "http://www.numpy.org/ <br/>\n",
    "https://docs.scipy.org/doc/numpy-1.13.0/reference/routines.math.html <br/>\n",
    "https://www.geeksforgeeks.org/numpy-random-rand-python/ <br/>\n",
    "https://stackoverflow.com/questions/12414619/creating-a-3d-plot-from-a-3d-numpy-array <br/>"
   ]
  }
 ],
 "metadata": {
  "kernelspec": {
   "display_name": "Python 3",
   "language": "python",
   "name": "python3"
  },
  "language_info": {
   "codemirror_mode": {
    "name": "ipython",
    "version": 3
   },
   "file_extension": ".py",
   "mimetype": "text/x-python",
   "name": "python",
   "nbconvert_exporter": "python",
   "pygments_lexer": "ipython3",
   "version": "3.6.5"
  }
 },
 "nbformat": 4,
 "nbformat_minor": 2
}
